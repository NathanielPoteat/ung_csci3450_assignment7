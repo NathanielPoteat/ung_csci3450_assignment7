{
 "cells": [
  {
   "cell_type": "code",
   "execution_count": 10,
   "metadata": {},
   "outputs": [
    {
     "name": "stdout",
     "output_type": "stream",
     "text": [
      "Requirement already satisfied: QRCode in c:\\users\\natha\\anaconda3\\lib\\site-packages (7.4.2)\n",
      "Requirement already satisfied: typing-extensions in c:\\users\\natha\\anaconda3\\lib\\site-packages (from QRCode) (4.9.0)\n",
      "Requirement already satisfied: pypng in c:\\users\\natha\\anaconda3\\lib\\site-packages (from QRCode) (0.20220715.0)\n",
      "Requirement already satisfied: colorama in c:\\users\\natha\\anaconda3\\lib\\site-packages (from QRCode) (0.4.6)\n",
      "Note: you may need to restart the kernel to use updated packages.\n"
     ]
    }
   ],
   "source": [
    "%pip install QRCode"
   ]
  },
  {
   "cell_type": "code",
   "execution_count": 14,
   "metadata": {},
   "outputs": [
    {
     "ename": "OSError",
     "evalue": "[Errno 22] Invalid argument: './phishing_qr_codes//bad/nobell.it_70ffb52d079109dca5664cce6f317373782_login.SkyPe.com_en_cgi-bin_verification_login_70ffb52d079109dca5664cce6f317373_index.php?cmd=_profile-ach&outdated_page_tmpl=p_gen_failed-to-load&nav=0.5.1&login_access=1322408526.png'",
     "output_type": "error",
     "traceback": [
      "\u001b[1;31m---------------------------------------------------------------------------\u001b[0m",
      "\u001b[1;31mOSError\u001b[0m                                   Traceback (most recent call last)",
      "Cell \u001b[1;32mIn[14], line 27\u001b[0m\n\u001b[0;32m     25\u001b[0m csv_file \u001b[38;5;241m=\u001b[39m \u001b[38;5;124m\"\u001b[39m\u001b[38;5;124m./phishing_site_urls.csv\u001b[39m\u001b[38;5;124m\"\u001b[39m\n\u001b[0;32m     26\u001b[0m output_directory \u001b[38;5;241m=\u001b[39m \u001b[38;5;124m\"\u001b[39m\u001b[38;5;124m./phishing_qr_codes/\u001b[39m\u001b[38;5;124m\"\u001b[39m\n\u001b[1;32m---> 27\u001b[0m generate_qr_codes(csv_file, output_directory)\n",
      "Cell \u001b[1;32mIn[14], line 21\u001b[0m, in \u001b[0;36mgenerate_qr_codes\u001b[1;34m(csv_file, output_directory)\u001b[0m\n\u001b[0;32m     19\u001b[0m     img\u001b[38;5;241m.\u001b[39msave(\u001b[38;5;124mf\u001b[39m\u001b[38;5;124m\"\u001b[39m\u001b[38;5;132;01m{\u001b[39;00moutput_directory\u001b[38;5;132;01m}\u001b[39;00m\u001b[38;5;124m/good/\u001b[39m\u001b[38;5;132;01m{\u001b[39;00murl\u001b[38;5;241m.\u001b[39mreplace(\u001b[38;5;124m'\u001b[39m\u001b[38;5;124m/\u001b[39m\u001b[38;5;124m'\u001b[39m,\u001b[38;5;124m'\u001b[39m\u001b[38;5;124m_\u001b[39m\u001b[38;5;124m'\u001b[39m)\u001b[38;5;132;01m}\u001b[39;00m\u001b[38;5;124m.png\u001b[39m\u001b[38;5;124m\"\u001b[39m)\n\u001b[0;32m     20\u001b[0m \u001b[38;5;28;01melif\u001b[39;00m category \u001b[38;5;241m==\u001b[39m \u001b[38;5;124m'\u001b[39m\u001b[38;5;124mbad\u001b[39m\u001b[38;5;124m'\u001b[39m:\n\u001b[1;32m---> 21\u001b[0m     img\u001b[38;5;241m.\u001b[39msave(\u001b[38;5;124mf\u001b[39m\u001b[38;5;124m\"\u001b[39m\u001b[38;5;132;01m{\u001b[39;00moutput_directory\u001b[38;5;132;01m}\u001b[39;00m\u001b[38;5;124m/bad/\u001b[39m\u001b[38;5;132;01m{\u001b[39;00murl\u001b[38;5;241m.\u001b[39mreplace(\u001b[38;5;124m'\u001b[39m\u001b[38;5;124m/\u001b[39m\u001b[38;5;124m'\u001b[39m,\u001b[38;5;124m'\u001b[39m\u001b[38;5;124m_\u001b[39m\u001b[38;5;124m'\u001b[39m)\u001b[38;5;132;01m}\u001b[39;00m\u001b[38;5;124m.png\u001b[39m\u001b[38;5;124m\"\u001b[39m)\n\u001b[0;32m     23\u001b[0m num \u001b[38;5;241m=\u001b[39m num \u001b[38;5;241m+\u001b[39m \u001b[38;5;241m1\u001b[39m\n",
      "File \u001b[1;32mc:\\Users\\natha\\anaconda3\\Lib\\site-packages\\qrcode\\image\\pil.py:51\u001b[0m, in \u001b[0;36mPilImage.save\u001b[1;34m(self, stream, format, **kwargs)\u001b[0m\n\u001b[0;32m     49\u001b[0m \u001b[38;5;28;01mif\u001b[39;00m \u001b[38;5;28mformat\u001b[39m \u001b[38;5;129;01mis\u001b[39;00m \u001b[38;5;28;01mNone\u001b[39;00m:\n\u001b[0;32m     50\u001b[0m     \u001b[38;5;28mformat\u001b[39m \u001b[38;5;241m=\u001b[39m kind\n\u001b[1;32m---> 51\u001b[0m \u001b[38;5;28mself\u001b[39m\u001b[38;5;241m.\u001b[39m_img\u001b[38;5;241m.\u001b[39msave(stream, \u001b[38;5;28mformat\u001b[39m\u001b[38;5;241m=\u001b[39m\u001b[38;5;28mformat\u001b[39m, \u001b[38;5;241m*\u001b[39m\u001b[38;5;241m*\u001b[39mkwargs)\n",
      "File \u001b[1;32mc:\\Users\\natha\\anaconda3\\Lib\\site-packages\\PIL\\Image.py:2436\u001b[0m, in \u001b[0;36mImage.save\u001b[1;34m(self, fp, format, **params)\u001b[0m\n\u001b[0;32m   2434\u001b[0m         fp \u001b[38;5;241m=\u001b[39m builtins\u001b[38;5;241m.\u001b[39mopen(filename, \u001b[38;5;124m\"\u001b[39m\u001b[38;5;124mr+b\u001b[39m\u001b[38;5;124m\"\u001b[39m)\n\u001b[0;32m   2435\u001b[0m     \u001b[38;5;28;01melse\u001b[39;00m:\n\u001b[1;32m-> 2436\u001b[0m         fp \u001b[38;5;241m=\u001b[39m builtins\u001b[38;5;241m.\u001b[39mopen(filename, \u001b[38;5;124m\"\u001b[39m\u001b[38;5;124mw+b\u001b[39m\u001b[38;5;124m\"\u001b[39m)\n\u001b[0;32m   2438\u001b[0m \u001b[38;5;28;01mtry\u001b[39;00m:\n\u001b[0;32m   2439\u001b[0m     save_handler(\u001b[38;5;28mself\u001b[39m, fp, filename)\n",
      "\u001b[1;31mOSError\u001b[0m: [Errno 22] Invalid argument: './phishing_qr_codes//bad/nobell.it_70ffb52d079109dca5664cce6f317373782_login.SkyPe.com_en_cgi-bin_verification_login_70ffb52d079109dca5664cce6f317373_index.php?cmd=_profile-ach&outdated_page_tmpl=p_gen_failed-to-load&nav=0.5.1&login_access=1322408526.png'"
     ]
    }
   ],
   "source": [
    "# This code is courtesy of ChatGPT\n",
    "import csv\n",
    "import qrcode\n",
    "\n",
    "# Loop through each line in the .csv file and convert the URL into a QR Code\n",
    "def generate_qr_codes(csv_file, output_directory):\n",
    "    with open(csv_file, newline='') as csvfile:\n",
    "        reader = csv.reader(csvfile)\n",
    "        num = 0\n",
    "        for row in reader:\n",
    "            url = row[0]\n",
    "            category = row[1]\n",
    "            qr = qrcode.QRCode(version=1, error_correction=qrcode.constants.ERROR_CORRECT_L, box_size=10, border=4)\n",
    "            qr.add_data(url)\n",
    "            qr.make(fit=True)\n",
    "            img = qr.make_image(fill_color=\"black\", back_color=\"white\")\n",
    "\n",
    "            if category == 'good':\n",
    "                img.save(f\"{output_directory}/good/{url.replace('/','_')}.png\")\n",
    "            elif category == 'bad':\n",
    "                img.save(f\"{output_directory}/bad/{url.replace('/','_')}.png\")\n",
    "\n",
    "            num = num + 1\n",
    "\n",
    "csv_file = \"./phishing_site_urls.csv\"\n",
    "output_directory = \"./phishing_qr_codes/\"\n",
    "generate_qr_codes(csv_file, output_directory)"
   ]
  },
  {
   "cell_type": "code",
   "execution_count": null,
   "metadata": {},
   "outputs": [],
   "source": []
  }
 ],
 "metadata": {
  "kernelspec": {
   "display_name": "base",
   "language": "python",
   "name": "python3"
  },
  "language_info": {
   "codemirror_mode": {
    "name": "ipython",
    "version": 3
   },
   "file_extension": ".py",
   "mimetype": "text/x-python",
   "name": "python",
   "nbconvert_exporter": "python",
   "pygments_lexer": "ipython3",
   "version": "3.11.7"
  }
 },
 "nbformat": 4,
 "nbformat_minor": 2
}
